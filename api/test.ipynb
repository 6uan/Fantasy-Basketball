{
 "cells": [
  {
   "cell_type": "markdown",
   "metadata": {},
   "source": [
    ">## <b>Box Score for Each Player <br/> (2022-2023 Season)</br>"
   ]
  },
  {
   "cell_type": "markdown",
   "metadata": {},
   "source": [
    "### Step 1: Import Libraries"
   ]
  },
  {
   "cell_type": "code",
   "execution_count": null,
   "metadata": {},
   "outputs": [],
   "source": [
    "from nba_api.stats.endpoints import teamgamelog, boxscoretraditionalv2\n",
    "import pandas as pd\n",
    "import time"
   ]
  },
  {
   "cell_type": "markdown",
   "metadata": {},
   "source": [
    "### Step 2: Define Team ID and Fetch Game Logs"
   ]
  },
  {
   "cell_type": "code",
   "execution_count": null,
   "metadata": {},
   "outputs": [],
   "source": [
    "team_id = 1610612747  # Los Angeles Lakers\n",
    "game_logs = teamgamelog.TeamGameLog(team_id=team_id, season='2022-23').get_data_frames()[0]\n",
    "# Display the first few rows of the game logs\n",
    "display(game_logs.head())"
   ]
  },
  {
   "cell_type": "markdown",
   "metadata": {},
   "source": [
    "### Step 3: Fetch Box Scores for Each Game"
   ]
  },
  {
   "cell_type": "code",
   "execution_count": null,
   "metadata": {},
   "outputs": [],
   "source": [
    "all_box_scores = pd.DataFrame()\n",
    "\n",
    "for index, game in game_logs.iterrows():\n",
    "    game_id = game['Game_ID']\n",
    "    box_score = boxscoretraditionalv2.BoxScoreTraditionalV2(game_id=game_id).get_data_frames()[0]\n",
    "    all_box_scores = pd.concat([all_box_scores, box_score], ignore_index=True)\n",
    "    time.sleep(1)  # To avoid hitting the API rate limit\n",
    "\n",
    "# Display the first few rows of the combined box scores\n",
    "display(all_box_scores.head())"
   ]
  },
  {
   "cell_type": "markdown",
   "metadata": {},
   "source": [
    "### Step 4: Save the Combined Data to a CSV File"
   ]
  },
  {
   "cell_type": "code",
   "execution_count": null,
   "metadata": {},
   "outputs": [],
   "source": [
    "all_box_scores.to_csv('team_box_scores_2022_2023.csv', index=False) # type: ignore\n",
    "\n",
    "print(\"Box scores saved successfully!\")"
   ]
  }
 ],
 "metadata": {
  "kernelspec": {
   "display_name": ".venv",
   "language": "python",
   "name": "python3"
  },
  "language_info": {
   "codemirror_mode": {
    "name": "ipython",
    "version": 3
   },
   "file_extension": ".py",
   "mimetype": "text/x-python",
   "name": "python",
   "nbconvert_exporter": "python",
   "pygments_lexer": "ipython3",
   "version": "3.12.4"
  }
 },
 "nbformat": 4,
 "nbformat_minor": 2
}
